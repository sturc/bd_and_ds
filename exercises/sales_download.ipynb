{
 "cells": [
  {
   "cell_type": "code",
   "execution_count": null,
   "metadata": {},
   "outputs": [],
   "source": [
    "import urllib.request\n",
    "\n",
    "url='http://roycekimmons.com/system/generate_data.php?dataset=sales&n=1000'\n",
    "\n",
    "urllib.request.urlretrieve(url, \"../data/sales.csv\")"
   ]
  }
 ],
 "metadata": {
  "interpreter": {
   "hash": "6d2589c10bdcbd078b7043d35b956b9364f4d9a37ceb87d8e3e029d304f5a6f7"
  },
  "kernelspec": {
   "display_name": "Python 3.7.5  ('.venv': venv)",
   "language": "python",
   "name": "python3"
  },
  "language_info": {
   "codemirror_mode": {
    "name": "ipython",
    "version": 3
   },
   "file_extension": ".py",
   "mimetype": "text/x-python",
   "name": "python",
   "nbconvert_exporter": "python",
   "pygments_lexer": "ipython3",
   "version": "3.10.4"
  },
  "orig_nbformat": 2
 },
 "nbformat": 4,
 "nbformat_minor": 2
}
