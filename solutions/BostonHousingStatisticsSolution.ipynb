{
 "cells": [
  {
   "cell_type": "markdown",
   "metadata": {},
   "source": [
    "# Boston Housing Basic Statistics"
   ]
  },
  {
   "cell_type": "code",
   "execution_count": 65,
   "metadata": {},
   "outputs": [],
   "source": [
    "from pyspark.sql.session import SparkSession\n",
    "from pyspark.ml.feature import VectorAssembler\n",
    "from pyspark.ml.regression import LinearRegression\n",
    "from pyspark.ml.evaluation import RegressionEvaluator\n",
    "from pyspark.ml.stat import Summarizer"
   ]
  },
  {
   "cell_type": "markdown",
   "metadata": {},
   "source": [
    "Do pretty printing"
   ]
  },
  {
   "cell_type": "code",
   "execution_count": 66,
   "metadata": {},
   "outputs": [],
   "source": [
    "def printDf(sprkDF): \n",
    "    newdf = sprkDF.toPandas()\n",
    "    from IPython.display import display, HTML\n",
    "    return HTML(newdf.to_html())"
   ]
  },
  {
   "cell_type": "markdown",
   "metadata": {},
   "source": [
    "Select the Imput File"
   ]
  },
  {
   "cell_type": "code",
   "execution_count": 67,
   "metadata": {},
   "outputs": [],
   "source": [
    "inputFile = \"../data/Boston_Housing_Data.csv\""
   ]
  },
  {
   "cell_type": "markdown",
   "metadata": {},
   "source": [
    "SparkSession creation"
   ]
  },
  {
   "cell_type": "code",
   "execution_count": 68,
   "metadata": {},
   "outputs": [],
   "source": [
    "spark = (SparkSession\n",
    "       .builder\n",
    "       .appName(\"BostonHousingRegression\")\n",
    "       .getOrCreate())"
   ]
  },
  {
   "cell_type": "markdown",
   "metadata": {},
   "source": [
    "Create a DataFrame using an ifered schema "
   ]
  },
  {
   "cell_type": "code",
   "execution_count": 69,
   "metadata": {},
   "outputs": [
    {
     "output_type": "stream",
     "name": "stdout",
     "text": "root\n |-- CRIM: double (nullable = true)\n |-- ZN: double (nullable = true)\n |-- INDUS: double (nullable = true)\n |-- CHAS: integer (nullable = true)\n |-- NOX: double (nullable = true)\n |-- RM: double (nullable = true)\n |-- AGE: double (nullable = true)\n |-- DIS: double (nullable = true)\n |-- RAD: integer (nullable = true)\n |-- TAX: integer (nullable = true)\n |-- PTRATIO: double (nullable = true)\n |-- B: double (nullable = true)\n |-- LSTAT: double (nullable = true)\n |-- MEDV: double (nullable = true)\n |-- CAT: integer (nullable = true)\n\nNone\n"
    }
   ],
   "source": [
    "df = spark.read.option(\"header\", \"true\") \\\n",
    "       .option(\"inferSchema\", \"true\") \\\n",
    "       .option(\"delimiter\", \";\") \\\n",
    "       .csv(inputFile)\n",
    "print(df.printSchema())"
   ]
  },
  {
   "cell_type": "markdown",
   "metadata": {},
   "source": [
    "### Some basic statistics"
   ]
  },
  {
   "cell_type": "code",
   "execution_count": 70,
   "metadata": {},
   "outputs": [
    {
     "output_type": "execute_result",
     "data": {
      "text/plain": "<IPython.core.display.HTML object>",
      "text/html": "<table border=\"1\" class=\"dataframe\">\n  <thead>\n    <tr style=\"text-align: right;\">\n      <th></th>\n      <th>summary</th>\n      <th>CRIM</th>\n      <th>ZN</th>\n      <th>INDUS</th>\n      <th>CHAS</th>\n      <th>NOX</th>\n      <th>RM</th>\n      <th>AGE</th>\n      <th>DIS</th>\n      <th>RAD</th>\n      <th>TAX</th>\n      <th>PTRATIO</th>\n      <th>B</th>\n      <th>LSTAT</th>\n      <th>MEDV</th>\n      <th>CAT</th>\n    </tr>\n  </thead>\n  <tbody>\n    <tr>\n      <th>0</th>\n      <td>count</td>\n      <td>506</td>\n      <td>506</td>\n      <td>506</td>\n      <td>506</td>\n      <td>506</td>\n      <td>506</td>\n      <td>506</td>\n      <td>506</td>\n      <td>506</td>\n      <td>506</td>\n      <td>506</td>\n      <td>506</td>\n      <td>506</td>\n      <td>506</td>\n      <td>506</td>\n    </tr>\n    <tr>\n      <th>1</th>\n      <td>mean</td>\n      <td>3.6135235573122535</td>\n      <td>11.363636363636363</td>\n      <td>11.136778656126504</td>\n      <td>0.0691699604743083</td>\n      <td>0.5546950592885372</td>\n      <td>6.284634387351787</td>\n      <td>68.57490118577078</td>\n      <td>3.795042687747034</td>\n      <td>9.549407114624506</td>\n      <td>408.2371541501976</td>\n      <td>18.455533596837967</td>\n      <td>356.67403162055257</td>\n      <td>12.653063241106723</td>\n      <td>22.532806324110698</td>\n      <td>0.16600790513833993</td>\n    </tr>\n    <tr>\n      <th>2</th>\n      <td>stddev</td>\n      <td>8.601545105332491</td>\n      <td>23.32245299451514</td>\n      <td>6.860352940897589</td>\n      <td>0.2539940413404101</td>\n      <td>0.11587767566755584</td>\n      <td>0.7026171434153232</td>\n      <td>28.148861406903595</td>\n      <td>2.10571012662761</td>\n      <td>8.707259384239366</td>\n      <td>168.53711605495903</td>\n      <td>2.1649455237144455</td>\n      <td>91.29486438415782</td>\n      <td>7.141061511348571</td>\n      <td>9.197104087379815</td>\n      <td>0.37245595385380464</td>\n    </tr>\n    <tr>\n      <th>3</th>\n      <td>min</td>\n      <td>0.00632</td>\n      <td>0.0</td>\n      <td>0.46</td>\n      <td>0</td>\n      <td>0.385</td>\n      <td>3.561</td>\n      <td>2.9</td>\n      <td>1.1296</td>\n      <td>1</td>\n      <td>187</td>\n      <td>12.6</td>\n      <td>0.32</td>\n      <td>1.73</td>\n      <td>5.0</td>\n      <td>0</td>\n    </tr>\n    <tr>\n      <th>4</th>\n      <td>25%</td>\n      <td>0.08199</td>\n      <td>0.0</td>\n      <td>5.19</td>\n      <td>0</td>\n      <td>0.449</td>\n      <td>5.885</td>\n      <td>45.0</td>\n      <td>2.1</td>\n      <td>4</td>\n      <td>279</td>\n      <td>17.4</td>\n      <td>375.33</td>\n      <td>6.93</td>\n      <td>17.0</td>\n      <td>0</td>\n    </tr>\n    <tr>\n      <th>5</th>\n      <td>50%</td>\n      <td>0.25387</td>\n      <td>0.0</td>\n      <td>9.69</td>\n      <td>0</td>\n      <td>0.538</td>\n      <td>6.208</td>\n      <td>77.3</td>\n      <td>3.1992</td>\n      <td>5</td>\n      <td>330</td>\n      <td>19.0</td>\n      <td>391.43</td>\n      <td>11.34</td>\n      <td>21.2</td>\n      <td>0</td>\n    </tr>\n    <tr>\n      <th>6</th>\n      <td>75%</td>\n      <td>3.67822</td>\n      <td>12.5</td>\n      <td>18.1</td>\n      <td>0</td>\n      <td>0.624</td>\n      <td>6.625</td>\n      <td>94.1</td>\n      <td>5.2119</td>\n      <td>24</td>\n      <td>666</td>\n      <td>20.2</td>\n      <td>396.23</td>\n      <td>16.96</td>\n      <td>25.0</td>\n      <td>0</td>\n    </tr>\n    <tr>\n      <th>7</th>\n      <td>max</td>\n      <td>88.9762</td>\n      <td>100.0</td>\n      <td>27.74</td>\n      <td>1</td>\n      <td>0.871</td>\n      <td>8.78</td>\n      <td>100.0</td>\n      <td>12.1265</td>\n      <td>24</td>\n      <td>711</td>\n      <td>22.0</td>\n      <td>396.9</td>\n      <td>37.97</td>\n      <td>50.0</td>\n      <td>1</td>\n    </tr>\n  </tbody>\n</table>"
     },
     "metadata": {},
     "execution_count": 70
    }
   ],
   "source": [
    "printDf(df.summary())"
   ]
  },
  {
   "cell_type": "code",
   "execution_count": 71,
   "metadata": {},
   "outputs": [],
   "source": [
    "spark.stop()"
   ]
  }
 ],
 "metadata": {
  "kernelspec": {
   "display_name": "venv",
   "language": "python",
   "name": "venv"
  },
  "language_info": {
   "codemirror_mode": {
    "name": "ipython",
    "version": 3
   },
   "file_extension": ".py",
   "mimetype": "text/x-python",
   "name": "python",
   "nbconvert_exporter": "python",
   "pygments_lexer": "ipython3",
   "version": "3.7.5-final"
  }
 },
 "nbformat": 4,
 "nbformat_minor": 2
}