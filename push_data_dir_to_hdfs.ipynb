{
 "cells": [
  {
   "cell_type": "markdown",
   "metadata": {},
   "source": [
    "# Copy the content of the data directory to the hdfs cluster"
   ]
  },
  {
   "cell_type": "code",
   "execution_count": 13,
   "metadata": {},
   "outputs": [],
   "source": [
    "from os import listdir\n",
    "from os.path import isfile, join\n",
    "from hdfs import InsecureClient"
   ]
  },
  {
   "cell_type": "code",
   "execution_count": 14,
   "metadata": {},
   "outputs": [],
   "source": [
    "client = InsecureClient('http://192.168.11.2:50070', user='root')\n",
    "client.makedirs(\"/data\", permission=755)\n",
    "client.makedirs(\"/tmp\", permission=777)\n",
    "client.makedirs(\"/app\", permission=777)\n",
    "client.makedirs(\"/result\", permission=777)"
   ]
  },
  {
   "cell_type": "code",
   "execution_count": 15,
   "metadata": {},
   "outputs": [
    {
     "output_type": "execute_result",
     "data": {
      "text/plain": [
       "['app', 'data', 'result', 'tmp']"
      ]
     },
     "metadata": {},
     "execution_count": 15
    }
   ],
   "source": [
    "client.list(\"/\", status=False)"
   ]
  },
  {
   "cell_type": "code",
   "execution_count": 16,
   "metadata": {},
   "outputs": [
    {
     "output_type": "stream",
     "name": "stdout",
     "text": [
      "processing file Boston_Housing_Data.csv\n",
      "processing file Teileliste_with_filtered_attributes.csv\n",
      "processing file churn.csv\n",
      "processing file csh101.ann.features.csv\n",
      "processing file ghEmployees.txt\n",
      "processing file ida_2016_training_set_update.csv\n",
      "processing file iris.data\n"
     ]
    }
   ],
   "source": [
    "datadir = \"data/\"\n",
    "allfiles = [f for f in listdir(datadir) if isfile(join(datadir, f))]\n",
    "datafiles = list(filter(lambda x: x[0]!= \".\", allfiles))\n",
    "for file in datafiles:\n",
    "    print(f\"processing file {file}\")\n",
    "    client.upload(f\"/data/{file}\", f\"data/{file}\", n_threads=1, temp_dir=\"/tmp\", chunk_size=65536, progress=None, cleanup=True, overwrite=True)"
   ]
  }
 ],
 "metadata": {
  "kernelspec": {
   "display_name": "Python 3",
   "language": "python",
   "name": "python3"
  }
 },
 "nbformat": 4,
 "nbformat_minor": 2
}